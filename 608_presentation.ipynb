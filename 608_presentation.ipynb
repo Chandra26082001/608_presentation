{
 "cells": [
  {
   "cell_type": "markdown",
   "metadata": {},
   "source": [
    "# Pandas vs DuckDB: A Chess Dataset Performance Comparison\n",
    "\n",
    "### Introduction\n",
    "In this notebook, we will compare **Pandas**, a widely-used Python library, with **DuckDB**, an efficient SQL-based analytical database, to analyze a large chess dataset. \n",
    "\n",
    "As datasets grow in size, choosing the right tool becomes critical for performance and scalability. Through this comparison, we aim to highlight the strengths and trade-offs of each tool.\n"
   ]
  },
  {
   "cell_type": "markdown",
   "metadata": {},
   "source": [
    "### Introduction to Pandas and DuckDB\n",
    "\n",
    "- **Pandas**:\n",
    "  - Pandas is a popular **Python library** for data analysis and manipulation.\n",
    "  - It provides **DataFrames**, which are easy to use for tasks like filtering, sorting, and aggregating data.\n",
    "  - However, Pandas **loads the entire dataset into memory**, which makes it inefficient for large datasets.\n",
    "\n",
    "- **DuckDB**:\n",
    "  - DuckDB is a **SQL-based analytical database** designed to process large datasets efficiently.\n",
    "  - It works seamlessly with Pandas DataFrames but uses SQL queries for operations.\n",
    "  - DuckDB’s **columnar storage** and query optimizations make it much faster for big data tasks.\n"
   ]
  },
  {
   "cell_type": "markdown",
   "metadata": {},
   "source": [
    "### Why Compare Pandas and DuckDB?\n",
    "\n",
    "As datasets grow larger—like the chess dataset with over **6 million rows**—memory efficiency and query performance become critical. Comparing these tools reveals their **strengths and trade-offs**, helping us understand:\n",
    "- Where Pandas excels (e.g., small-scale, Python-native tasks).\n",
    "- Where DuckDB dominates (e.g., analytical workloads, large datasets).\n",
    "\n",
    "### Objective\n",
    "By comparing Pandas and DuckDB on the chess dataset, we aim to:\n",
    "- Highlight **performance differences** for common data operations like filtering, aggregation, and sorting.\n",
    "- Understand **why DuckDB performs better for large datasets** while Pandas remains a strong choice for simpler tasks.\n"
   ]
  },
  {
   "cell_type": "markdown",
   "metadata": {},
   "source": [
    "### Understanding Row-Based vs Columnar Storage\n",
    "\n",
    "The primary difference between Pandas and DuckDB lies in how they store and access data:\n",
    "\n",
    "1. **Pandas (Row-Based Storage)**:\n",
    "   - Data is stored row by row.\n",
    "   - When accessing data from a specific column, Pandas still loads the entire row into memory, leading to inefficiencies for large datasets.\n",
    "\n",
    "2. **DuckDB (Columnar Storage)**:\n",
    "   - Data is stored column by column.\n",
    "   - DuckDB reads only the relevant columns for a query, minimizing memory usage and improving speed.\n",
    "\n",
    "Here’s a diagram explaining these differences:\n",
    "\n",
    "![Row vs Column Storage](pandas_duckdb.png)\n"
   ]
  },
  {
   "cell_type": "markdown",
   "metadata": {},
   "source": [
    "### Chess Dataset Overview\n",
    "\n",
    "This dataset contains information about chess games, including:\n",
    "- **Event**: Type of game (e.g., Classical, Blitz).\n",
    "- **WhiteElo** and **BlackElo**: Player ratings.\n",
    "- **Opening**: The opening strategy used in the game.\n",
    "- **Result**: Outcome of the game.\n",
    "\n",
    "We chose this dataset because:\n",
    "- It contains over **6 million rows**, making it ideal for testing performance differences.\n",
    "- It represents real-world data, relatable and diverse enough to explore multiple data operations.\n"
   ]
  },
  {
   "cell_type": "code",
   "execution_count": 32,
   "metadata": {},
   "outputs": [
    {
     "name": "stdout",
     "output_type": "stream",
     "text": [
      "Dataset Preview:\n"
     ]
    },
    {
     "data": {
      "text/html": [
       "<div>\n",
       "<style scoped>\n",
       "    .dataframe tbody tr th:only-of-type {\n",
       "        vertical-align: middle;\n",
       "    }\n",
       "\n",
       "    .dataframe tbody tr th {\n",
       "        vertical-align: top;\n",
       "    }\n",
       "\n",
       "    .dataframe thead th {\n",
       "        text-align: right;\n",
       "    }\n",
       "</style>\n",
       "<table border=\"1\" class=\"dataframe\">\n",
       "  <thead>\n",
       "    <tr style=\"text-align: right;\">\n",
       "      <th></th>\n",
       "      <th>Event</th>\n",
       "      <th>White</th>\n",
       "      <th>Black</th>\n",
       "      <th>Result</th>\n",
       "      <th>UTCDate</th>\n",
       "      <th>UTCTime</th>\n",
       "      <th>WhiteElo</th>\n",
       "      <th>BlackElo</th>\n",
       "      <th>WhiteRatingDiff</th>\n",
       "      <th>BlackRatingDiff</th>\n",
       "      <th>ECO</th>\n",
       "      <th>Opening</th>\n",
       "      <th>TimeControl</th>\n",
       "      <th>Termination</th>\n",
       "      <th>AN</th>\n",
       "    </tr>\n",
       "  </thead>\n",
       "  <tbody>\n",
       "    <tr>\n",
       "      <th>0</th>\n",
       "      <td>Classical</td>\n",
       "      <td>eisaaaa</td>\n",
       "      <td>HAMID449</td>\n",
       "      <td>1-0</td>\n",
       "      <td>2016.06.30</td>\n",
       "      <td>22:00:01</td>\n",
       "      <td>1901</td>\n",
       "      <td>1896</td>\n",
       "      <td>11.0</td>\n",
       "      <td>-11.0</td>\n",
       "      <td>D10</td>\n",
       "      <td>Slav Defense</td>\n",
       "      <td>300+5</td>\n",
       "      <td>Time forfeit</td>\n",
       "      <td>1. d4 d5 2. c4 c6 3. e3 a6 4. Nf3 e5 5. cxd5 e...</td>\n",
       "    </tr>\n",
       "    <tr>\n",
       "      <th>1</th>\n",
       "      <td>Blitz</td>\n",
       "      <td>go4jas</td>\n",
       "      <td>Sergei1973</td>\n",
       "      <td>0-1</td>\n",
       "      <td>2016.06.30</td>\n",
       "      <td>22:00:01</td>\n",
       "      <td>1641</td>\n",
       "      <td>1627</td>\n",
       "      <td>-11.0</td>\n",
       "      <td>12.0</td>\n",
       "      <td>C20</td>\n",
       "      <td>King's Pawn Opening: 2.b3</td>\n",
       "      <td>300+0</td>\n",
       "      <td>Normal</td>\n",
       "      <td>1. e4 e5 2. b3 Nf6 3. Bb2 Nc6 4. Nf3 d6 5. d3 ...</td>\n",
       "    </tr>\n",
       "    <tr>\n",
       "      <th>2</th>\n",
       "      <td>Blitz tournament</td>\n",
       "      <td>Evangelistaizac</td>\n",
       "      <td>kafune</td>\n",
       "      <td>1-0</td>\n",
       "      <td>2016.06.30</td>\n",
       "      <td>22:00:02</td>\n",
       "      <td>1647</td>\n",
       "      <td>1688</td>\n",
       "      <td>13.0</td>\n",
       "      <td>-13.0</td>\n",
       "      <td>B01</td>\n",
       "      <td>Scandinavian Defense: Mieses-Kotroc Variation</td>\n",
       "      <td>180+0</td>\n",
       "      <td>Time forfeit</td>\n",
       "      <td>1. e4 d5 2. exd5 Qxd5 3. Nf3 Bg4 4. Be2 Nf6 5....</td>\n",
       "    </tr>\n",
       "    <tr>\n",
       "      <th>3</th>\n",
       "      <td>Correspondence</td>\n",
       "      <td>Jvayne</td>\n",
       "      <td>Wsjvayne</td>\n",
       "      <td>1-0</td>\n",
       "      <td>2016.06.30</td>\n",
       "      <td>22:00:02</td>\n",
       "      <td>1706</td>\n",
       "      <td>1317</td>\n",
       "      <td>27.0</td>\n",
       "      <td>-25.0</td>\n",
       "      <td>A00</td>\n",
       "      <td>Van't Kruijs Opening</td>\n",
       "      <td>-</td>\n",
       "      <td>Normal</td>\n",
       "      <td>1. e3 Nf6 2. Bc4 d6 3. e4 e6 4. Nf3 Nxe4 5. Nd...</td>\n",
       "    </tr>\n",
       "    <tr>\n",
       "      <th>4</th>\n",
       "      <td>Blitz tournament</td>\n",
       "      <td>kyoday</td>\n",
       "      <td>BrettDale</td>\n",
       "      <td>0-1</td>\n",
       "      <td>2016.06.30</td>\n",
       "      <td>22:00:02</td>\n",
       "      <td>1945</td>\n",
       "      <td>1900</td>\n",
       "      <td>-14.0</td>\n",
       "      <td>13.0</td>\n",
       "      <td>B90</td>\n",
       "      <td>Sicilian Defense: Najdorf, Lipnitsky Attack</td>\n",
       "      <td>180+0</td>\n",
       "      <td>Time forfeit</td>\n",
       "      <td>1. e4 c5 2. Nf3 d6 3. d4 cxd4 4. Nxd4 Nf6 5. N...</td>\n",
       "    </tr>\n",
       "  </tbody>\n",
       "</table>\n",
       "</div>"
      ],
      "text/plain": [
       "                Event            White       Black Result     UTCDate  \\\n",
       "0          Classical           eisaaaa    HAMID449    1-0  2016.06.30   \n",
       "1              Blitz            go4jas  Sergei1973    0-1  2016.06.30   \n",
       "2   Blitz tournament   Evangelistaizac      kafune    1-0  2016.06.30   \n",
       "3     Correspondence            Jvayne    Wsjvayne    1-0  2016.06.30   \n",
       "4   Blitz tournament            kyoday   BrettDale    0-1  2016.06.30   \n",
       "\n",
       "    UTCTime  WhiteElo  BlackElo  WhiteRatingDiff  BlackRatingDiff  ECO  \\\n",
       "0  22:00:01      1901      1896             11.0            -11.0  D10   \n",
       "1  22:00:01      1641      1627            -11.0             12.0  C20   \n",
       "2  22:00:02      1647      1688             13.0            -13.0  B01   \n",
       "3  22:00:02      1706      1317             27.0            -25.0  A00   \n",
       "4  22:00:02      1945      1900            -14.0             13.0  B90   \n",
       "\n",
       "                                         Opening TimeControl   Termination  \\\n",
       "0                                   Slav Defense       300+5  Time forfeit   \n",
       "1                      King's Pawn Opening: 2.b3       300+0        Normal   \n",
       "2  Scandinavian Defense: Mieses-Kotroc Variation       180+0  Time forfeit   \n",
       "3                           Van't Kruijs Opening           -        Normal   \n",
       "4    Sicilian Defense: Najdorf, Lipnitsky Attack       180+0  Time forfeit   \n",
       "\n",
       "                                                  AN  \n",
       "0  1. d4 d5 2. c4 c6 3. e3 a6 4. Nf3 e5 5. cxd5 e...  \n",
       "1  1. e4 e5 2. b3 Nf6 3. Bb2 Nc6 4. Nf3 d6 5. d3 ...  \n",
       "2  1. e4 d5 2. exd5 Qxd5 3. Nf3 Bg4 4. Be2 Nf6 5....  \n",
       "3  1. e3 Nf6 2. Bc4 d6 3. e4 e6 4. Nf3 Nxe4 5. Nd...  \n",
       "4  1. e4 c5 2. Nf3 d6 3. d4 cxd4 4. Nxd4 Nf6 5. N...  "
      ]
     },
     "execution_count": 32,
     "metadata": {},
     "output_type": "execute_result"
    }
   ],
   "source": [
    "import pandas as pd\n",
    "\n",
    "# Load the dataset\n",
    "file_path = 'chess_games.csv'\n",
    "df = pd.read_csv(file_path)\n",
    "\n",
    "# Display dataset preview\n",
    "print(\"Dataset Preview:\")\n",
    "df.head()\n"
   ]
  },
  {
   "cell_type": "markdown",
   "metadata": {},
   "source": [
    "### Dataset Size\n",
    "Let’s check the number of rows and columns in the dataset. This gives us an idea of the data scale and why performance differences between Pandas and DuckDB matter.\n"
   ]
  },
  {
   "cell_type": "code",
   "execution_count": 33,
   "metadata": {},
   "outputs": [
    {
     "name": "stdout",
     "output_type": "stream",
     "text": [
      "The dataset contains 6256184 rows and 15 columns.\n"
     ]
    }
   ],
   "source": [
    "# Display the shape of the dataset\n",
    "print(f\"The dataset contains {df.shape[0]} rows and {df.shape[1]} columns.\")\n"
   ]
  },
  {
   "cell_type": "markdown",
   "metadata": {},
   "source": [
    "# Joining Tables"
   ]
  },
  {
   "cell_type": "markdown",
   "metadata": {},
   "source": [
    "### Example 1: Joining tables\n",
    "Task: Perform a self-join to match games with the same Opening and calculate the average WhiteElo difference between the matched games.."
   ]
  },
  {
   "cell_type": "code",
   "execution_count": 34,
   "metadata": {},
   "outputs": [
    {
     "ename": "MemoryError",
     "evalue": "Unable to allocate 1.35 TiB for an array with shape (185247197766,) and data type int64",
     "output_type": "error",
     "traceback": [
      "\u001b[1;31m---------------------------------------------------------------------------\u001b[0m",
      "\u001b[1;31mMemoryError\u001b[0m                               Traceback (most recent call last)",
      "Cell \u001b[1;32mIn[34], line 17\u001b[0m\n\u001b[0;32m     14\u001b[0m     joined[\u001b[38;5;124m'\u001b[39m\u001b[38;5;124mEloDiff\u001b[39m\u001b[38;5;124m'\u001b[39m] \u001b[38;5;241m=\u001b[39m \u001b[38;5;28mabs\u001b[39m(joined[\u001b[38;5;124m'\u001b[39m\u001b[38;5;124mWhiteElo_1\u001b[39m\u001b[38;5;124m'\u001b[39m] \u001b[38;5;241m-\u001b[39m joined[\u001b[38;5;124m'\u001b[39m\u001b[38;5;124mWhiteElo_2\u001b[39m\u001b[38;5;124m'\u001b[39m])\n\u001b[0;32m     15\u001b[0m     \u001b[38;5;28;01mreturn\u001b[39;00m joined[[\u001b[38;5;124m'\u001b[39m\u001b[38;5;124mOpening\u001b[39m\u001b[38;5;124m'\u001b[39m, \u001b[38;5;124m'\u001b[39m\u001b[38;5;124mEloDiff\u001b[39m\u001b[38;5;124m'\u001b[39m]]\u001b[38;5;241m.\u001b[39mhead()\n\u001b[1;32m---> 17\u001b[0m pandas_joined \u001b[38;5;241m=\u001b[39m \u001b[43mtime_execution\u001b[49m\u001b[43m(\u001b[49m\u001b[43mpandas_join\u001b[49m\u001b[43m,\u001b[49m\u001b[43m \u001b[49m\u001b[38;5;124;43m\"\u001b[39;49m\u001b[38;5;124;43mPandas Self-Join\u001b[39;49m\u001b[38;5;124;43m\"\u001b[39;49m\u001b[43m)\u001b[49m\n",
      "Cell \u001b[1;32mIn[34], line 6\u001b[0m, in \u001b[0;36mtime_execution\u001b[1;34m(func, label)\u001b[0m\n\u001b[0;32m      4\u001b[0m \u001b[38;5;28;01mdef\u001b[39;00m \u001b[38;5;21mtime_execution\u001b[39m(func, label):\n\u001b[0;32m      5\u001b[0m     start_time \u001b[38;5;241m=\u001b[39m time\u001b[38;5;241m.\u001b[39mtime()\n\u001b[1;32m----> 6\u001b[0m     result \u001b[38;5;241m=\u001b[39m \u001b[43mfunc\u001b[49m\u001b[43m(\u001b[49m\u001b[43m)\u001b[49m\n\u001b[0;32m      7\u001b[0m     elapsed_time \u001b[38;5;241m=\u001b[39m time\u001b[38;5;241m.\u001b[39mtime() \u001b[38;5;241m-\u001b[39m start_time\n\u001b[0;32m      8\u001b[0m     \u001b[38;5;28mprint\u001b[39m(\u001b[38;5;124mf\u001b[39m\u001b[38;5;124m\"\u001b[39m\u001b[38;5;132;01m{\u001b[39;00mlabel\u001b[38;5;132;01m}\u001b[39;00m\u001b[38;5;124m: \u001b[39m\u001b[38;5;132;01m{\u001b[39;00melapsed_time\u001b[38;5;132;01m:\u001b[39;00m\u001b[38;5;124m.4f\u001b[39m\u001b[38;5;132;01m}\u001b[39;00m\u001b[38;5;124m seconds\u001b[39m\u001b[38;5;124m\"\u001b[39m)\n",
      "Cell \u001b[1;32mIn[34], line 13\u001b[0m, in \u001b[0;36mpandas_join\u001b[1;34m()\u001b[0m\n\u001b[0;32m     12\u001b[0m \u001b[38;5;28;01mdef\u001b[39;00m \u001b[38;5;21mpandas_join\u001b[39m():\n\u001b[1;32m---> 13\u001b[0m     joined \u001b[38;5;241m=\u001b[39m \u001b[43mdf\u001b[49m\u001b[38;5;241;43m.\u001b[39;49m\u001b[43mmerge\u001b[49m\u001b[43m(\u001b[49m\u001b[43mdf\u001b[49m\u001b[43m,\u001b[49m\u001b[43m \u001b[49m\u001b[43mon\u001b[49m\u001b[38;5;241;43m=\u001b[39;49m\u001b[38;5;124;43m'\u001b[39;49m\u001b[38;5;124;43mOpening\u001b[39;49m\u001b[38;5;124;43m'\u001b[39;49m\u001b[43m,\u001b[49m\u001b[43m \u001b[49m\u001b[43msuffixes\u001b[49m\u001b[38;5;241;43m=\u001b[39;49m\u001b[43m(\u001b[49m\u001b[38;5;124;43m'\u001b[39;49m\u001b[38;5;124;43m_1\u001b[39;49m\u001b[38;5;124;43m'\u001b[39;49m\u001b[43m,\u001b[49m\u001b[43m \u001b[49m\u001b[38;5;124;43m'\u001b[39;49m\u001b[38;5;124;43m_2\u001b[39;49m\u001b[38;5;124;43m'\u001b[39;49m\u001b[43m)\u001b[49m\u001b[43m)\u001b[49m\n\u001b[0;32m     14\u001b[0m     joined[\u001b[38;5;124m'\u001b[39m\u001b[38;5;124mEloDiff\u001b[39m\u001b[38;5;124m'\u001b[39m] \u001b[38;5;241m=\u001b[39m \u001b[38;5;28mabs\u001b[39m(joined[\u001b[38;5;124m'\u001b[39m\u001b[38;5;124mWhiteElo_1\u001b[39m\u001b[38;5;124m'\u001b[39m] \u001b[38;5;241m-\u001b[39m joined[\u001b[38;5;124m'\u001b[39m\u001b[38;5;124mWhiteElo_2\u001b[39m\u001b[38;5;124m'\u001b[39m])\n\u001b[0;32m     15\u001b[0m     \u001b[38;5;28;01mreturn\u001b[39;00m joined[[\u001b[38;5;124m'\u001b[39m\u001b[38;5;124mOpening\u001b[39m\u001b[38;5;124m'\u001b[39m, \u001b[38;5;124m'\u001b[39m\u001b[38;5;124mEloDiff\u001b[39m\u001b[38;5;124m'\u001b[39m]]\u001b[38;5;241m.\u001b[39mhead()\n",
      "File \u001b[1;32m~\\AppData\\Local\\Programs\\Python\\Python312\\Lib\\site-packages\\pandas\\core\\frame.py:10819\u001b[0m, in \u001b[0;36mDataFrame.merge\u001b[1;34m(self, right, how, on, left_on, right_on, left_index, right_index, sort, suffixes, copy, indicator, validate)\u001b[0m\n\u001b[0;32m  10800\u001b[0m \u001b[38;5;129m@Substitution\u001b[39m(\u001b[38;5;124m\"\u001b[39m\u001b[38;5;124m\"\u001b[39m)\n\u001b[0;32m  10801\u001b[0m \u001b[38;5;129m@Appender\u001b[39m(_merge_doc, indents\u001b[38;5;241m=\u001b[39m\u001b[38;5;241m2\u001b[39m)\n\u001b[0;32m  10802\u001b[0m \u001b[38;5;28;01mdef\u001b[39;00m \u001b[38;5;21mmerge\u001b[39m(\n\u001b[1;32m   (...)\u001b[0m\n\u001b[0;32m  10815\u001b[0m     validate: MergeValidate \u001b[38;5;241m|\u001b[39m \u001b[38;5;28;01mNone\u001b[39;00m \u001b[38;5;241m=\u001b[39m \u001b[38;5;28;01mNone\u001b[39;00m,\n\u001b[0;32m  10816\u001b[0m ) \u001b[38;5;241m-\u001b[39m\u001b[38;5;241m>\u001b[39m DataFrame:\n\u001b[0;32m  10817\u001b[0m     \u001b[38;5;28;01mfrom\u001b[39;00m \u001b[38;5;21;01mpandas\u001b[39;00m\u001b[38;5;21;01m.\u001b[39;00m\u001b[38;5;21;01mcore\u001b[39;00m\u001b[38;5;21;01m.\u001b[39;00m\u001b[38;5;21;01mreshape\u001b[39;00m\u001b[38;5;21;01m.\u001b[39;00m\u001b[38;5;21;01mmerge\u001b[39;00m \u001b[38;5;28;01mimport\u001b[39;00m merge\n\u001b[1;32m> 10819\u001b[0m     \u001b[38;5;28;01mreturn\u001b[39;00m \u001b[43mmerge\u001b[49m\u001b[43m(\u001b[49m\n\u001b[0;32m  10820\u001b[0m \u001b[43m        \u001b[49m\u001b[38;5;28;43mself\u001b[39;49m\u001b[43m,\u001b[49m\n\u001b[0;32m  10821\u001b[0m \u001b[43m        \u001b[49m\u001b[43mright\u001b[49m\u001b[43m,\u001b[49m\n\u001b[0;32m  10822\u001b[0m \u001b[43m        \u001b[49m\u001b[43mhow\u001b[49m\u001b[38;5;241;43m=\u001b[39;49m\u001b[43mhow\u001b[49m\u001b[43m,\u001b[49m\n\u001b[0;32m  10823\u001b[0m \u001b[43m        \u001b[49m\u001b[43mon\u001b[49m\u001b[38;5;241;43m=\u001b[39;49m\u001b[43mon\u001b[49m\u001b[43m,\u001b[49m\n\u001b[0;32m  10824\u001b[0m \u001b[43m        \u001b[49m\u001b[43mleft_on\u001b[49m\u001b[38;5;241;43m=\u001b[39;49m\u001b[43mleft_on\u001b[49m\u001b[43m,\u001b[49m\n\u001b[0;32m  10825\u001b[0m \u001b[43m        \u001b[49m\u001b[43mright_on\u001b[49m\u001b[38;5;241;43m=\u001b[39;49m\u001b[43mright_on\u001b[49m\u001b[43m,\u001b[49m\n\u001b[0;32m  10826\u001b[0m \u001b[43m        \u001b[49m\u001b[43mleft_index\u001b[49m\u001b[38;5;241;43m=\u001b[39;49m\u001b[43mleft_index\u001b[49m\u001b[43m,\u001b[49m\n\u001b[0;32m  10827\u001b[0m \u001b[43m        \u001b[49m\u001b[43mright_index\u001b[49m\u001b[38;5;241;43m=\u001b[39;49m\u001b[43mright_index\u001b[49m\u001b[43m,\u001b[49m\n\u001b[0;32m  10828\u001b[0m \u001b[43m        \u001b[49m\u001b[43msort\u001b[49m\u001b[38;5;241;43m=\u001b[39;49m\u001b[43msort\u001b[49m\u001b[43m,\u001b[49m\n\u001b[0;32m  10829\u001b[0m \u001b[43m        \u001b[49m\u001b[43msuffixes\u001b[49m\u001b[38;5;241;43m=\u001b[39;49m\u001b[43msuffixes\u001b[49m\u001b[43m,\u001b[49m\n\u001b[0;32m  10830\u001b[0m \u001b[43m        \u001b[49m\u001b[43mcopy\u001b[49m\u001b[38;5;241;43m=\u001b[39;49m\u001b[43mcopy\u001b[49m\u001b[43m,\u001b[49m\n\u001b[0;32m  10831\u001b[0m \u001b[43m        \u001b[49m\u001b[43mindicator\u001b[49m\u001b[38;5;241;43m=\u001b[39;49m\u001b[43mindicator\u001b[49m\u001b[43m,\u001b[49m\n\u001b[0;32m  10832\u001b[0m \u001b[43m        \u001b[49m\u001b[43mvalidate\u001b[49m\u001b[38;5;241;43m=\u001b[39;49m\u001b[43mvalidate\u001b[49m\u001b[43m,\u001b[49m\n\u001b[0;32m  10833\u001b[0m \u001b[43m    \u001b[49m\u001b[43m)\u001b[49m\n",
      "File \u001b[1;32m~\\AppData\\Local\\Programs\\Python\\Python312\\Lib\\site-packages\\pandas\\core\\reshape\\merge.py:184\u001b[0m, in \u001b[0;36mmerge\u001b[1;34m(left, right, how, on, left_on, right_on, left_index, right_index, sort, suffixes, copy, indicator, validate)\u001b[0m\n\u001b[0;32m    169\u001b[0m \u001b[38;5;28;01melse\u001b[39;00m:\n\u001b[0;32m    170\u001b[0m     op \u001b[38;5;241m=\u001b[39m _MergeOperation(\n\u001b[0;32m    171\u001b[0m         left_df,\n\u001b[0;32m    172\u001b[0m         right_df,\n\u001b[1;32m   (...)\u001b[0m\n\u001b[0;32m    182\u001b[0m         validate\u001b[38;5;241m=\u001b[39mvalidate,\n\u001b[0;32m    183\u001b[0m     )\n\u001b[1;32m--> 184\u001b[0m     \u001b[38;5;28;01mreturn\u001b[39;00m \u001b[43mop\u001b[49m\u001b[38;5;241;43m.\u001b[39;49m\u001b[43mget_result\u001b[49m\u001b[43m(\u001b[49m\u001b[43mcopy\u001b[49m\u001b[38;5;241;43m=\u001b[39;49m\u001b[43mcopy\u001b[49m\u001b[43m)\u001b[49m\n",
      "File \u001b[1;32m~\\AppData\\Local\\Programs\\Python\\Python312\\Lib\\site-packages\\pandas\\core\\reshape\\merge.py:886\u001b[0m, in \u001b[0;36m_MergeOperation.get_result\u001b[1;34m(self, copy)\u001b[0m\n\u001b[0;32m    883\u001b[0m \u001b[38;5;28;01mif\u001b[39;00m \u001b[38;5;28mself\u001b[39m\u001b[38;5;241m.\u001b[39mindicator:\n\u001b[0;32m    884\u001b[0m     \u001b[38;5;28mself\u001b[39m\u001b[38;5;241m.\u001b[39mleft, \u001b[38;5;28mself\u001b[39m\u001b[38;5;241m.\u001b[39mright \u001b[38;5;241m=\u001b[39m \u001b[38;5;28mself\u001b[39m\u001b[38;5;241m.\u001b[39m_indicator_pre_merge(\u001b[38;5;28mself\u001b[39m\u001b[38;5;241m.\u001b[39mleft, \u001b[38;5;28mself\u001b[39m\u001b[38;5;241m.\u001b[39mright)\n\u001b[1;32m--> 886\u001b[0m join_index, left_indexer, right_indexer \u001b[38;5;241m=\u001b[39m \u001b[38;5;28;43mself\u001b[39;49m\u001b[38;5;241;43m.\u001b[39;49m\u001b[43m_get_join_info\u001b[49m\u001b[43m(\u001b[49m\u001b[43m)\u001b[49m\n\u001b[0;32m    888\u001b[0m result \u001b[38;5;241m=\u001b[39m \u001b[38;5;28mself\u001b[39m\u001b[38;5;241m.\u001b[39m_reindex_and_concat(\n\u001b[0;32m    889\u001b[0m     join_index, left_indexer, right_indexer, copy\u001b[38;5;241m=\u001b[39mcopy\n\u001b[0;32m    890\u001b[0m )\n\u001b[0;32m    891\u001b[0m result \u001b[38;5;241m=\u001b[39m result\u001b[38;5;241m.\u001b[39m__finalize__(\u001b[38;5;28mself\u001b[39m, method\u001b[38;5;241m=\u001b[39m\u001b[38;5;28mself\u001b[39m\u001b[38;5;241m.\u001b[39m_merge_type)\n",
      "File \u001b[1;32m~\\AppData\\Local\\Programs\\Python\\Python312\\Lib\\site-packages\\pandas\\core\\reshape\\merge.py:1151\u001b[0m, in \u001b[0;36m_MergeOperation._get_join_info\u001b[1;34m(self)\u001b[0m\n\u001b[0;32m   1147\u001b[0m     join_index, right_indexer, left_indexer \u001b[38;5;241m=\u001b[39m _left_join_on_index(\n\u001b[0;32m   1148\u001b[0m         right_ax, left_ax, \u001b[38;5;28mself\u001b[39m\u001b[38;5;241m.\u001b[39mright_join_keys, sort\u001b[38;5;241m=\u001b[39m\u001b[38;5;28mself\u001b[39m\u001b[38;5;241m.\u001b[39msort\n\u001b[0;32m   1149\u001b[0m     )\n\u001b[0;32m   1150\u001b[0m \u001b[38;5;28;01melse\u001b[39;00m:\n\u001b[1;32m-> 1151\u001b[0m     (left_indexer, right_indexer) \u001b[38;5;241m=\u001b[39m \u001b[38;5;28;43mself\u001b[39;49m\u001b[38;5;241;43m.\u001b[39;49m\u001b[43m_get_join_indexers\u001b[49m\u001b[43m(\u001b[49m\u001b[43m)\u001b[49m\n\u001b[0;32m   1153\u001b[0m     \u001b[38;5;28;01mif\u001b[39;00m \u001b[38;5;28mself\u001b[39m\u001b[38;5;241m.\u001b[39mright_index:\n\u001b[0;32m   1154\u001b[0m         \u001b[38;5;28;01mif\u001b[39;00m \u001b[38;5;28mlen\u001b[39m(\u001b[38;5;28mself\u001b[39m\u001b[38;5;241m.\u001b[39mleft) \u001b[38;5;241m>\u001b[39m \u001b[38;5;241m0\u001b[39m:\n",
      "File \u001b[1;32m~\\AppData\\Local\\Programs\\Python\\Python312\\Lib\\site-packages\\pandas\\core\\reshape\\merge.py:1125\u001b[0m, in \u001b[0;36m_MergeOperation._get_join_indexers\u001b[1;34m(self)\u001b[0m\n\u001b[0;32m   1123\u001b[0m \u001b[38;5;66;03m# make mypy happy\u001b[39;00m\n\u001b[0;32m   1124\u001b[0m \u001b[38;5;28;01massert\u001b[39;00m \u001b[38;5;28mself\u001b[39m\u001b[38;5;241m.\u001b[39mhow \u001b[38;5;241m!=\u001b[39m \u001b[38;5;124m\"\u001b[39m\u001b[38;5;124masof\u001b[39m\u001b[38;5;124m\"\u001b[39m\n\u001b[1;32m-> 1125\u001b[0m \u001b[38;5;28;01mreturn\u001b[39;00m \u001b[43mget_join_indexers\u001b[49m\u001b[43m(\u001b[49m\n\u001b[0;32m   1126\u001b[0m \u001b[43m    \u001b[49m\u001b[38;5;28;43mself\u001b[39;49m\u001b[38;5;241;43m.\u001b[39;49m\u001b[43mleft_join_keys\u001b[49m\u001b[43m,\u001b[49m\u001b[43m \u001b[49m\u001b[38;5;28;43mself\u001b[39;49m\u001b[38;5;241;43m.\u001b[39;49m\u001b[43mright_join_keys\u001b[49m\u001b[43m,\u001b[49m\u001b[43m \u001b[49m\u001b[43msort\u001b[49m\u001b[38;5;241;43m=\u001b[39;49m\u001b[38;5;28;43mself\u001b[39;49m\u001b[38;5;241;43m.\u001b[39;49m\u001b[43msort\u001b[49m\u001b[43m,\u001b[49m\u001b[43m \u001b[49m\u001b[43mhow\u001b[49m\u001b[38;5;241;43m=\u001b[39;49m\u001b[38;5;28;43mself\u001b[39;49m\u001b[38;5;241;43m.\u001b[39;49m\u001b[43mhow\u001b[49m\n\u001b[0;32m   1127\u001b[0m \u001b[43m\u001b[49m\u001b[43m)\u001b[49m\n",
      "File \u001b[1;32m~\\AppData\\Local\\Programs\\Python\\Python312\\Lib\\site-packages\\pandas\\core\\reshape\\merge.py:1759\u001b[0m, in \u001b[0;36mget_join_indexers\u001b[1;34m(left_keys, right_keys, sort, how)\u001b[0m\n\u001b[0;32m   1757\u001b[0m     _, lidx, ridx \u001b[38;5;241m=\u001b[39m left\u001b[38;5;241m.\u001b[39mjoin(right, how\u001b[38;5;241m=\u001b[39mhow, return_indexers\u001b[38;5;241m=\u001b[39m\u001b[38;5;28;01mTrue\u001b[39;00m, sort\u001b[38;5;241m=\u001b[39msort)\n\u001b[0;32m   1758\u001b[0m \u001b[38;5;28;01melse\u001b[39;00m:\n\u001b[1;32m-> 1759\u001b[0m     lidx, ridx \u001b[38;5;241m=\u001b[39m \u001b[43mget_join_indexers_non_unique\u001b[49m\u001b[43m(\u001b[49m\n\u001b[0;32m   1760\u001b[0m \u001b[43m        \u001b[49m\u001b[43mleft\u001b[49m\u001b[38;5;241;43m.\u001b[39;49m\u001b[43m_values\u001b[49m\u001b[43m,\u001b[49m\u001b[43m \u001b[49m\u001b[43mright\u001b[49m\u001b[38;5;241;43m.\u001b[39;49m\u001b[43m_values\u001b[49m\u001b[43m,\u001b[49m\u001b[43m \u001b[49m\u001b[43msort\u001b[49m\u001b[43m,\u001b[49m\u001b[43m \u001b[49m\u001b[43mhow\u001b[49m\n\u001b[0;32m   1761\u001b[0m \u001b[43m    \u001b[49m\u001b[43m)\u001b[49m\n\u001b[0;32m   1763\u001b[0m \u001b[38;5;28;01mif\u001b[39;00m lidx \u001b[38;5;129;01mis\u001b[39;00m \u001b[38;5;129;01mnot\u001b[39;00m \u001b[38;5;28;01mNone\u001b[39;00m \u001b[38;5;129;01mand\u001b[39;00m is_range_indexer(lidx, \u001b[38;5;28mlen\u001b[39m(left)):\n\u001b[0;32m   1764\u001b[0m     lidx \u001b[38;5;241m=\u001b[39m \u001b[38;5;28;01mNone\u001b[39;00m\n",
      "File \u001b[1;32m~\\AppData\\Local\\Programs\\Python\\Python312\\Lib\\site-packages\\pandas\\core\\reshape\\merge.py:1799\u001b[0m, in \u001b[0;36mget_join_indexers_non_unique\u001b[1;34m(left, right, sort, how)\u001b[0m\n\u001b[0;32m   1797\u001b[0m     ridx, lidx \u001b[38;5;241m=\u001b[39m libjoin\u001b[38;5;241m.\u001b[39mleft_outer_join(rkey, lkey, count, sort\u001b[38;5;241m=\u001b[39msort)\n\u001b[0;32m   1798\u001b[0m \u001b[38;5;28;01melif\u001b[39;00m how \u001b[38;5;241m==\u001b[39m \u001b[38;5;124m\"\u001b[39m\u001b[38;5;124minner\u001b[39m\u001b[38;5;124m\"\u001b[39m:\n\u001b[1;32m-> 1799\u001b[0m     lidx, ridx \u001b[38;5;241m=\u001b[39m \u001b[43mlibjoin\u001b[49m\u001b[38;5;241;43m.\u001b[39;49m\u001b[43minner_join\u001b[49m\u001b[43m(\u001b[49m\u001b[43mlkey\u001b[49m\u001b[43m,\u001b[49m\u001b[43m \u001b[49m\u001b[43mrkey\u001b[49m\u001b[43m,\u001b[49m\u001b[43m \u001b[49m\u001b[43mcount\u001b[49m\u001b[43m,\u001b[49m\u001b[43m \u001b[49m\u001b[43msort\u001b[49m\u001b[38;5;241;43m=\u001b[39;49m\u001b[43msort\u001b[49m\u001b[43m)\u001b[49m\n\u001b[0;32m   1800\u001b[0m \u001b[38;5;28;01melif\u001b[39;00m how \u001b[38;5;241m==\u001b[39m \u001b[38;5;124m\"\u001b[39m\u001b[38;5;124mouter\u001b[39m\u001b[38;5;124m\"\u001b[39m:\n\u001b[0;32m   1801\u001b[0m     lidx, ridx \u001b[38;5;241m=\u001b[39m libjoin\u001b[38;5;241m.\u001b[39mfull_outer_join(lkey, rkey, count)\n",
      "File \u001b[1;32mjoin.pyx:47\u001b[0m, in \u001b[0;36mpandas._libs.join.inner_join\u001b[1;34m()\u001b[0m\n",
      "\u001b[1;31mMemoryError\u001b[0m: Unable to allocate 1.35 TiB for an array with shape (185247197766,) and data type int64"
     ]
    }
   ],
   "source": [
    "import time\n",
    "\n",
    "# Measure execution time\n",
    "def time_execution(func, label):\n",
    "    start_time = time.time()\n",
    "    result = func()\n",
    "    elapsed_time = time.time() - start_time\n",
    "    print(f\"{label}: {elapsed_time:.4f} seconds\")\n",
    "    return result ,elapsed_time\n",
    "\n",
    "# Pandas Filtering\n",
    "def pandas_join():\n",
    "    joined = df.merge(df, on='Opening', suffixes=('_1', '_2'))\n",
    "    joined['EloDiff'] = abs(joined['WhiteElo_1'] - joined['WhiteElo_2'])\n",
    "    return joined[['Opening', 'EloDiff']].head()\n",
    "\n",
    "pandas_joined = time_execution(pandas_join, \"Pandas Self-Join\")\n",
    "        \n"
   ]
  },
  {
   "cell_type": "markdown",
   "metadata": {},
   "source": [
    "#### **Why Pandas Failed**\n",
    "1. **Cartesian Explosion**:\n",
    "   - A self-join creates all possible combinations of rows with the same `Opening`.\n",
    "   - For a dataset with millions of rows, this results in an **exponentially larger intermediate DataFrame**, which becomes too large to fit into memory.\n",
    "\n",
    "2. **Memory Limitations**:\n",
    "   - Pandas attempts to load the entire intermediate result into memory.\n",
    "   - In this case, Pandas tried to allocate **1.35 TiB** of memory for the operation, which exceeds typical system limits, causing a **MemoryError**.\n",
    "\n",
    "3. **Row-Based Processing**:\n",
    "   - Pandas processes rows inefficiently for such large-scale operations, compounding the memory and execution time issues.\n",
    "\n",
    "4. **No Query Optimization**:\n",
    "   - Pandas doesn’t optimize join operations, so it processes the entire DataFrame without applying early filters or memory-saving techniques.\n",
    "\n"
   ]
  },
  {
   "cell_type": "code",
   "execution_count": 35,
   "metadata": {},
   "outputs": [
    {
     "name": "stdout",
     "output_type": "stream",
     "text": [
      "DuckDB Self-Join: 0.6482 seconds\n",
      "Results of DuckDB Self-Join (Sample):\n"
     ]
    },
    {
     "data": {
      "text/html": [
       "<div>\n",
       "<style scoped>\n",
       "    .dataframe tbody tr th:only-of-type {\n",
       "        vertical-align: middle;\n",
       "    }\n",
       "\n",
       "    .dataframe tbody tr th {\n",
       "        vertical-align: top;\n",
       "    }\n",
       "\n",
       "    .dataframe thead th {\n",
       "        text-align: right;\n",
       "    }\n",
       "</style>\n",
       "<table border=\"1\" class=\"dataframe\">\n",
       "  <thead>\n",
       "    <tr style=\"text-align: right;\">\n",
       "      <th></th>\n",
       "      <th>Opening</th>\n",
       "      <th>EloDiff</th>\n",
       "    </tr>\n",
       "  </thead>\n",
       "  <tbody>\n",
       "    <tr>\n",
       "      <th>0</th>\n",
       "      <td>Ruy Lopez: Exchange Variation, Gligoric Variation</td>\n",
       "      <td>388</td>\n",
       "    </tr>\n",
       "    <tr>\n",
       "      <th>1</th>\n",
       "      <td>Giuoco Piano</td>\n",
       "      <td>230</td>\n",
       "    </tr>\n",
       "    <tr>\n",
       "      <th>2</th>\n",
       "      <td>Van Geet Opening</td>\n",
       "      <td>401</td>\n",
       "    </tr>\n",
       "    <tr>\n",
       "      <th>3</th>\n",
       "      <td>Sicilian Defense: Modern Variations, Tartakower</td>\n",
       "      <td>103</td>\n",
       "    </tr>\n",
       "    <tr>\n",
       "      <th>4</th>\n",
       "      <td>Petrov: Modern Attack</td>\n",
       "      <td>589</td>\n",
       "    </tr>\n",
       "    <tr>\n",
       "      <th>5</th>\n",
       "      <td>Sicilian Defense: Najdorf, Lipnitsky Attack</td>\n",
       "      <td>76</td>\n",
       "    </tr>\n",
       "    <tr>\n",
       "      <th>6</th>\n",
       "      <td>English Defense #2</td>\n",
       "      <td>45</td>\n",
       "    </tr>\n",
       "    <tr>\n",
       "      <th>7</th>\n",
       "      <td>Queen's Pawn Game: Krause Variation</td>\n",
       "      <td>49</td>\n",
       "    </tr>\n",
       "    <tr>\n",
       "      <th>8</th>\n",
       "      <td>King's Gambit</td>\n",
       "      <td>395</td>\n",
       "    </tr>\n",
       "    <tr>\n",
       "      <th>9</th>\n",
       "      <td>Rat Defense: Small Center Defense</td>\n",
       "      <td>259</td>\n",
       "    </tr>\n",
       "  </tbody>\n",
       "</table>\n",
       "</div>"
      ],
      "text/plain": [
       "                                             Opening  EloDiff\n",
       "0  Ruy Lopez: Exchange Variation, Gligoric Variation      388\n",
       "1                                       Giuoco Piano      230\n",
       "2                                   Van Geet Opening      401\n",
       "3    Sicilian Defense: Modern Variations, Tartakower      103\n",
       "4                              Petrov: Modern Attack      589\n",
       "5        Sicilian Defense: Najdorf, Lipnitsky Attack       76\n",
       "6                                 English Defense #2       45\n",
       "7                Queen's Pawn Game: Krause Variation       49\n",
       "8                                      King's Gambit      395\n",
       "9                  Rat Defense: Small Center Defense      259"
      ]
     },
     "metadata": {},
     "output_type": "display_data"
    }
   ],
   "source": [
    "import duckdb\n",
    "\n",
    "def duckdb_join():\n",
    "    con = duckdb.connect()\n",
    "    con.register(\"df_table\", df)  # Register the DataFrame\n",
    "    query = \"\"\"\n",
    "    SELECT a.Opening, ABS(a.WhiteElo - b.WhiteElo) AS EloDiff\n",
    "    FROM df_table a\n",
    "    INNER JOIN df_table b\n",
    "    ON a.Opening = b.Opening\n",
    "    LIMIT 10\n",
    "    \"\"\"\n",
    "    return con.execute(query).fetch_df()\n",
    "\n",
    "duckdb_joined, duckdb_time = time_execution(duckdb_join, \"DuckDB Self-Join\")\n",
    "\n",
    "print(\"Results of DuckDB Self-Join (Sample):\")\n",
    "display(duckdb_joined)  # Displaying as a formatted table for Jupyter Notebook"
   ]
  },
  {
   "cell_type": "code",
   "execution_count": 36,
   "metadata": {},
   "outputs": [
    {
     "data": {
      "text/html": [
       "<div>\n",
       "<style scoped>\n",
       "    .dataframe tbody tr th:only-of-type {\n",
       "        vertical-align: middle;\n",
       "    }\n",
       "\n",
       "    .dataframe tbody tr th {\n",
       "        vertical-align: top;\n",
       "    }\n",
       "\n",
       "    .dataframe thead th {\n",
       "        text-align: right;\n",
       "    }\n",
       "</style>\n",
       "<table border=\"1\" class=\"dataframe\">\n",
       "  <thead>\n",
       "    <tr style=\"text-align: right;\">\n",
       "      <th></th>\n",
       "      <th>Tool</th>\n",
       "      <th>Execution Time (seconds)</th>\n",
       "    </tr>\n",
       "  </thead>\n",
       "  <tbody>\n",
       "    <tr>\n",
       "      <th>0</th>\n",
       "      <td>Pandas</td>\n",
       "      <td>NaN</td>\n",
       "    </tr>\n",
       "    <tr>\n",
       "      <th>1</th>\n",
       "      <td>DuckDB</td>\n",
       "      <td>0.64816</td>\n",
       "    </tr>\n",
       "  </tbody>\n",
       "</table>\n",
       "</div>"
      ],
      "text/plain": [
       "     Tool  Execution Time (seconds)\n",
       "0  Pandas                       NaN\n",
       "1  DuckDB                   0.64816"
      ]
     },
     "metadata": {},
     "output_type": "display_data"
    }
   ],
   "source": [
    "import pandas as pd\n",
    "from IPython.display import display\n",
    "\n",
    "# Define the execution times\n",
    "results_data = {\n",
    "    \"Tool\": [\"Pandas\", \"DuckDB\"],\n",
    "    \"Execution Time (seconds)\": [None, duckdb_time]  # Pandas exceeds time limit\n",
    "}\n",
    "\n",
    "# Create a DataFrame for display\n",
    "comparison_table = pd.DataFrame(results_data)\n",
    "\n",
    "# Display the comparison table\n",
    "display(comparison_table)\n"
   ]
  },
  {
   "cell_type": "markdown",
   "metadata": {},
   "source": [
    "#### **Why DuckDB Succeeded**\n",
    "1. **Optimized Query Execution**:\n",
    "   - DuckDB uses **chunk-based processing**, processing smaller parts of the data in memory without loading the entire result at once.\n",
    "\n",
    "2. **Columnar Storage**:\n",
    "   - DuckDB reads only the relevant columns (`Opening`, `WhiteElo`) for the join operation.\n",
    "   - This significantly reduces the memory footprint compared to Pandas.\n",
    "\n",
    "3. **Query Plan Optimization**:\n",
    "   - DuckDB applies query optimizations like:\n",
    "     - **Predicate Pushdown**: Applies the `LIMIT 10` filter early in the query execution to avoid unnecessary computations.\n",
    "     - **Efficient Join Algorithms**: Uses optimized join techniques to reduce computational overhead.\n",
    "\n",
    "4. **Scalability**:\n",
    "   - DuckDB is designed to handle large datasets and complex analytical workloads efficiently, making it a natural choice for operations like self-joins.\n",
    "\n",
    "---"
   ]
  },
  {
   "cell_type": "markdown",
   "metadata": {},
   "source": [
    "# Aggregation"
   ]
  },
  {
   "cell_type": "markdown",
   "metadata": {},
   "source": [
    "### Example 2: Aggregation\n",
    "Task: Calculate the **average ELO ratings** for each opening.\n",
    "\n",
    "#### Key Question:\n",
    "- Which tool handles grouping and aggregations faster?\n"
   ]
  },
  {
   "cell_type": "code",
   "execution_count": 47,
   "metadata": {},
   "outputs": [
    {
     "name": "stdout",
     "output_type": "stream",
     "text": [
      "Pandas Aggregation: 0.9558 seconds\n"
     ]
    }
   ],
   "source": [
    "# Pandas Aggregation\n",
    "def pandas_aggregation():\n",
    "    return df.groupby('Opening')[['WhiteElo', 'BlackElo']].mean()\n",
    "\n",
    "pandas_avg_elo , pandas_agg_time = time_execution(pandas_aggregation, \"Pandas Aggregation\")\n"
   ]
  },
  {
   "cell_type": "code",
   "execution_count": 50,
   "metadata": {},
   "outputs": [
    {
     "name": "stdout",
     "output_type": "stream",
     "text": [
      "DuckDB Aggregation: 0.1322 seconds\n"
     ]
    },
    {
     "data": {
      "text/html": [
       "<div>\n",
       "<style scoped>\n",
       "    .dataframe tbody tr th:only-of-type {\n",
       "        vertical-align: middle;\n",
       "    }\n",
       "\n",
       "    .dataframe tbody tr th {\n",
       "        vertical-align: top;\n",
       "    }\n",
       "\n",
       "    .dataframe thead th {\n",
       "        text-align: right;\n",
       "    }\n",
       "</style>\n",
       "<table border=\"1\" class=\"dataframe\">\n",
       "  <thead>\n",
       "    <tr style=\"text-align: right;\">\n",
       "      <th></th>\n",
       "      <th>Opening</th>\n",
       "      <th>Avg_WhiteElo</th>\n",
       "      <th>Avg_BlackElo</th>\n",
       "    </tr>\n",
       "  </thead>\n",
       "  <tbody>\n",
       "    <tr>\n",
       "      <th>0</th>\n",
       "      <td>Ruy Lopez: Berlin Defense #2</td>\n",
       "      <td>1657.154551</td>\n",
       "      <td>1647.638276</td>\n",
       "    </tr>\n",
       "    <tr>\n",
       "      <th>1</th>\n",
       "      <td>Dutch Defense: Rubinstein Variation</td>\n",
       "      <td>1864.678308</td>\n",
       "      <td>1870.287337</td>\n",
       "    </tr>\n",
       "    <tr>\n",
       "      <th>2</th>\n",
       "      <td>Vienna Game: Vienna Gambit</td>\n",
       "      <td>1864.451350</td>\n",
       "      <td>1789.471727</td>\n",
       "    </tr>\n",
       "    <tr>\n",
       "      <th>3</th>\n",
       "      <td>Scotch Game: Haxo Gambit</td>\n",
       "      <td>1816.674622</td>\n",
       "      <td>1788.013388</td>\n",
       "    </tr>\n",
       "    <tr>\n",
       "      <th>4</th>\n",
       "      <td>Sicilian Defense: Chekhover Variation</td>\n",
       "      <td>1834.700628</td>\n",
       "      <td>1842.042801</td>\n",
       "    </tr>\n",
       "    <tr>\n",
       "      <th>...</th>\n",
       "      <td>...</td>\n",
       "      <td>...</td>\n",
       "      <td>...</td>\n",
       "    </tr>\n",
       "    <tr>\n",
       "      <th>2937</th>\n",
       "      <td>Blackmar-Diemer Gambit: Rook Pawn Defense</td>\n",
       "      <td>2193.000000</td>\n",
       "      <td>1951.000000</td>\n",
       "    </tr>\n",
       "    <tr>\n",
       "      <th>2938</th>\n",
       "      <td>Ruy Lopez: Open Variations, Malkin Variation</td>\n",
       "      <td>2290.000000</td>\n",
       "      <td>2206.000000</td>\n",
       "    </tr>\n",
       "    <tr>\n",
       "      <th>2939</th>\n",
       "      <td>Sicilian Defense: Dragon, Classical, Zollner G...</td>\n",
       "      <td>1924.000000</td>\n",
       "      <td>2258.000000</td>\n",
       "    </tr>\n",
       "    <tr>\n",
       "      <th>2940</th>\n",
       "      <td>Gruenfeld Defense: Exchange Variation, Larsen ...</td>\n",
       "      <td>1911.000000</td>\n",
       "      <td>1880.000000</td>\n",
       "    </tr>\n",
       "    <tr>\n",
       "      <th>2941</th>\n",
       "      <td>Sicilian Defense: Richter-Rauzer Variation, Ne...</td>\n",
       "      <td>1796.000000</td>\n",
       "      <td>1769.000000</td>\n",
       "    </tr>\n",
       "  </tbody>\n",
       "</table>\n",
       "<p>2942 rows × 3 columns</p>\n",
       "</div>"
      ],
      "text/plain": [
       "                                                Opening  Avg_WhiteElo  \\\n",
       "0                          Ruy Lopez: Berlin Defense #2   1657.154551   \n",
       "1                   Dutch Defense: Rubinstein Variation   1864.678308   \n",
       "2                            Vienna Game: Vienna Gambit   1864.451350   \n",
       "3                              Scotch Game: Haxo Gambit   1816.674622   \n",
       "4                 Sicilian Defense: Chekhover Variation   1834.700628   \n",
       "...                                                 ...           ...   \n",
       "2937          Blackmar-Diemer Gambit: Rook Pawn Defense   2193.000000   \n",
       "2938       Ruy Lopez: Open Variations, Malkin Variation   2290.000000   \n",
       "2939  Sicilian Defense: Dragon, Classical, Zollner G...   1924.000000   \n",
       "2940  Gruenfeld Defense: Exchange Variation, Larsen ...   1911.000000   \n",
       "2941  Sicilian Defense: Richter-Rauzer Variation, Ne...   1796.000000   \n",
       "\n",
       "      Avg_BlackElo  \n",
       "0      1647.638276  \n",
       "1      1870.287337  \n",
       "2      1789.471727  \n",
       "3      1788.013388  \n",
       "4      1842.042801  \n",
       "...            ...  \n",
       "2937   1951.000000  \n",
       "2938   2206.000000  \n",
       "2939   2258.000000  \n",
       "2940   1880.000000  \n",
       "2941   1769.000000  \n",
       "\n",
       "[2942 rows x 3 columns]"
      ]
     },
     "metadata": {},
     "output_type": "display_data"
    }
   ],
   "source": [
    "# DuckDB Aggregation\n",
    "def duckdb_aggregation():\n",
    "    con = duckdb.connect()\n",
    "    query = \"\"\"\n",
    "    SELECT Opening, AVG(WhiteElo) AS Avg_WhiteElo, AVG(BlackElo) AS Avg_BlackElo\n",
    "    FROM df\n",
    "    GROUP BY Opening\n",
    "    \"\"\"\n",
    "    return con.execute(query).fetch_df()\n",
    "\n",
    "duckdb_avg_elo , duckdb_agg_time = time_execution(duckdb_aggregation, \"DuckDB Aggregation\")\n",
    "display( duckdb_avg_elo )"
   ]
  },
  {
   "cell_type": "code",
   "execution_count": 39,
   "metadata": {},
   "outputs": [
    {
     "data": {
      "text/html": [
       "<div>\n",
       "<style scoped>\n",
       "    .dataframe tbody tr th:only-of-type {\n",
       "        vertical-align: middle;\n",
       "    }\n",
       "\n",
       "    .dataframe tbody tr th {\n",
       "        vertical-align: top;\n",
       "    }\n",
       "\n",
       "    .dataframe thead th {\n",
       "        text-align: right;\n",
       "    }\n",
       "</style>\n",
       "<table border=\"1\" class=\"dataframe\">\n",
       "  <thead>\n",
       "    <tr style=\"text-align: right;\">\n",
       "      <th></th>\n",
       "      <th>Tool</th>\n",
       "      <th>Execution Time (seconds)</th>\n",
       "    </tr>\n",
       "  </thead>\n",
       "  <tbody>\n",
       "    <tr>\n",
       "      <th>0</th>\n",
       "      <td>Pandas</td>\n",
       "      <td>0.928950</td>\n",
       "    </tr>\n",
       "    <tr>\n",
       "      <th>1</th>\n",
       "      <td>DuckDB</td>\n",
       "      <td>0.137369</td>\n",
       "    </tr>\n",
       "  </tbody>\n",
       "</table>\n",
       "</div>"
      ],
      "text/plain": [
       "     Tool  Execution Time (seconds)\n",
       "0  Pandas                  0.928950\n",
       "1  DuckDB                  0.137369"
      ]
     },
     "metadata": {},
     "output_type": "display_data"
    }
   ],
   "source": [
    "import pandas as pd\n",
    "from IPython.display import display\n",
    "\n",
    "# Define the execution times\n",
    "results_data = {\n",
    "    \"Tool\": [\"Pandas\", \"DuckDB\"],\n",
    "    \"Execution Time (seconds)\": [pandas_agg_time, duckdb_agg_time]  # Pandas exceeds time limit\n",
    "}\n",
    "\n",
    "# Create a DataFrame for display\n",
    "comparison_table = pd.DataFrame(results_data)\n",
    "\n",
    "# Display the comparison table\n",
    "display(comparison_table)\n"
   ]
  },
  {
   "cell_type": "markdown",
   "metadata": {},
   "source": [
    "# Sorting Data"
   ]
  },
  {
   "cell_type": "markdown",
   "metadata": {},
   "source": [
    "### Example 3: Sorting Data\n",
    "Task: Identify the **top 10 most frequent chess openings**.\n",
    "\n",
    "#### Key Question:\n",
    "- Which tool sorts data faster?\n"
   ]
  },
  {
   "cell_type": "code",
   "execution_count": 40,
   "metadata": {},
   "outputs": [
    {
     "name": "stdout",
     "output_type": "stream",
     "text": [
      "Pandas Sorting: 0.6462 seconds\n",
      "Opening\n",
      "Van't Kruijs Opening                             133112\n",
      "Scandinavian Defense: Mieses-Kotroc Variation    112227\n",
      "Modern Defense                                   108120\n",
      "Horwitz Defense                                   95450\n",
      "Sicilian Defense                                  85645\n",
      "French Defense: Knight Variation                  83519\n",
      "Caro-Kann Defense                                 82408\n",
      "Scandinavian Defense                              78494\n",
      "Owen Defense                                      73452\n",
      "Sicilian Defense: Bowdler Attack                  72457\n",
      "Name: count, dtype: int64\n"
     ]
    }
   ],
   "source": [
    "# Pandas Sorting\n",
    "def pandas_sorting():\n",
    "    return df['Opening'].value_counts().head(10)\n",
    "\n",
    "pandas_top_openings , pandas_sort_time = time_execution(pandas_sorting, \"Pandas Sorting\")\n",
    "print(pandas_top_openings)"
   ]
  },
  {
   "cell_type": "code",
   "execution_count": 41,
   "metadata": {},
   "outputs": [
    {
     "name": "stdout",
     "output_type": "stream",
     "text": [
      "DuckDB Sorting: 0.1510 seconds\n"
     ]
    },
    {
     "data": {
      "text/html": [
       "<div>\n",
       "<style scoped>\n",
       "    .dataframe tbody tr th:only-of-type {\n",
       "        vertical-align: middle;\n",
       "    }\n",
       "\n",
       "    .dataframe tbody tr th {\n",
       "        vertical-align: top;\n",
       "    }\n",
       "\n",
       "    .dataframe thead th {\n",
       "        text-align: right;\n",
       "    }\n",
       "</style>\n",
       "<table border=\"1\" class=\"dataframe\">\n",
       "  <thead>\n",
       "    <tr style=\"text-align: right;\">\n",
       "      <th></th>\n",
       "      <th>Opening</th>\n",
       "      <th>Frequency</th>\n",
       "    </tr>\n",
       "  </thead>\n",
       "  <tbody>\n",
       "    <tr>\n",
       "      <th>0</th>\n",
       "      <td>Van't Kruijs Opening</td>\n",
       "      <td>133112</td>\n",
       "    </tr>\n",
       "    <tr>\n",
       "      <th>1</th>\n",
       "      <td>Scandinavian Defense: Mieses-Kotroc Variation</td>\n",
       "      <td>112227</td>\n",
       "    </tr>\n",
       "    <tr>\n",
       "      <th>2</th>\n",
       "      <td>Modern Defense</td>\n",
       "      <td>108120</td>\n",
       "    </tr>\n",
       "    <tr>\n",
       "      <th>3</th>\n",
       "      <td>Horwitz Defense</td>\n",
       "      <td>95450</td>\n",
       "    </tr>\n",
       "    <tr>\n",
       "      <th>4</th>\n",
       "      <td>Sicilian Defense</td>\n",
       "      <td>85645</td>\n",
       "    </tr>\n",
       "    <tr>\n",
       "      <th>5</th>\n",
       "      <td>French Defense: Knight Variation</td>\n",
       "      <td>83519</td>\n",
       "    </tr>\n",
       "    <tr>\n",
       "      <th>6</th>\n",
       "      <td>Caro-Kann Defense</td>\n",
       "      <td>82408</td>\n",
       "    </tr>\n",
       "    <tr>\n",
       "      <th>7</th>\n",
       "      <td>Scandinavian Defense</td>\n",
       "      <td>78494</td>\n",
       "    </tr>\n",
       "    <tr>\n",
       "      <th>8</th>\n",
       "      <td>Owen Defense</td>\n",
       "      <td>73452</td>\n",
       "    </tr>\n",
       "    <tr>\n",
       "      <th>9</th>\n",
       "      <td>Sicilian Defense: Bowdler Attack</td>\n",
       "      <td>72457</td>\n",
       "    </tr>\n",
       "  </tbody>\n",
       "</table>\n",
       "</div>"
      ],
      "text/plain": [
       "                                         Opening  Frequency\n",
       "0                           Van't Kruijs Opening     133112\n",
       "1  Scandinavian Defense: Mieses-Kotroc Variation     112227\n",
       "2                                 Modern Defense     108120\n",
       "3                                Horwitz Defense      95450\n",
       "4                               Sicilian Defense      85645\n",
       "5               French Defense: Knight Variation      83519\n",
       "6                              Caro-Kann Defense      82408\n",
       "7                           Scandinavian Defense      78494\n",
       "8                                   Owen Defense      73452\n",
       "9               Sicilian Defense: Bowdler Attack      72457"
      ]
     },
     "metadata": {},
     "output_type": "display_data"
    }
   ],
   "source": [
    "# DuckDB Sorting\n",
    "def duckdb_sorting():\n",
    "    con = duckdb.connect()\n",
    "    query = \"\"\"\n",
    "    SELECT Opening, COUNT(*) AS Frequency\n",
    "    FROM df\n",
    "    GROUP BY Opening\n",
    "    ORDER BY Frequency DESC\n",
    "    LIMIT 10\n",
    "    \"\"\"\n",
    "    return con.execute(query).fetch_df()\n",
    "\n",
    "duckdb_top_openings , duckdb_sort_time = time_execution(duckdb_sorting, \"DuckDB Sorting\")\n",
    "display(duckdb_top_openings)"
   ]
  },
  {
   "cell_type": "code",
   "execution_count": 42,
   "metadata": {},
   "outputs": [
    {
     "data": {
      "text/html": [
       "<div>\n",
       "<style scoped>\n",
       "    .dataframe tbody tr th:only-of-type {\n",
       "        vertical-align: middle;\n",
       "    }\n",
       "\n",
       "    .dataframe tbody tr th {\n",
       "        vertical-align: top;\n",
       "    }\n",
       "\n",
       "    .dataframe thead th {\n",
       "        text-align: right;\n",
       "    }\n",
       "</style>\n",
       "<table border=\"1\" class=\"dataframe\">\n",
       "  <thead>\n",
       "    <tr style=\"text-align: right;\">\n",
       "      <th></th>\n",
       "      <th>Tool</th>\n",
       "      <th>Execution Time (seconds)</th>\n",
       "    </tr>\n",
       "  </thead>\n",
       "  <tbody>\n",
       "    <tr>\n",
       "      <th>0</th>\n",
       "      <td>Pandas</td>\n",
       "      <td>0.646200</td>\n",
       "    </tr>\n",
       "    <tr>\n",
       "      <th>1</th>\n",
       "      <td>DuckDB</td>\n",
       "      <td>0.151029</td>\n",
       "    </tr>\n",
       "  </tbody>\n",
       "</table>\n",
       "</div>"
      ],
      "text/plain": [
       "     Tool  Execution Time (seconds)\n",
       "0  Pandas                  0.646200\n",
       "1  DuckDB                  0.151029"
      ]
     },
     "metadata": {},
     "output_type": "display_data"
    }
   ],
   "source": [
    "import pandas as pd\n",
    "from IPython.display import display\n",
    "\n",
    "# Define the execution times\n",
    "results_data = {\n",
    "    \"Tool\": [\"Pandas\", \"DuckDB\"],\n",
    "    \"Execution Time (seconds)\": [pandas_sort_time, duckdb_sort_time]  # Pandas exceeds time limit\n",
    "}\n",
    "\n",
    "# Create a DataFrame for display\n",
    "comparison_table = pd.DataFrame(results_data)\n",
    "\n",
    "# Display the comparison table\n",
    "display(comparison_table)\n"
   ]
  },
  {
   "cell_type": "markdown",
   "metadata": {},
   "source": [
    "# Custom Calculations"
   ]
  },
  {
   "cell_type": "markdown",
   "metadata": {},
   "source": [
    "### Example 4: Custom Calculations\n",
    "Task: Calculate the **absolute difference in ELO ratings** between players.\n",
    "\n",
    "#### Key Question:\n",
    "- How do the tools handle custom Python-like operations?\n"
   ]
  },
  {
   "cell_type": "code",
   "execution_count": 43,
   "metadata": {},
   "outputs": [
    {
     "name": "stdout",
     "output_type": "stream",
     "text": [
      "Pandas Custom Calculation: 0.1991 seconds\n",
      "   WhiteElo  BlackElo  EloDifference\n",
      "0      1901      1896              5\n",
      "1      1641      1627             14\n",
      "2      1647      1688             41\n",
      "3      1706      1317            389\n",
      "4      1945      1900             45\n"
     ]
    }
   ],
   "source": [
    "# Pandas Custom Calculation\n",
    "def pandas_custom_calc():\n",
    "    df['EloDifference'] = abs(df['WhiteElo'] - df['BlackElo'])\n",
    "    return df[['WhiteElo', 'BlackElo', 'EloDifference']].head()\n",
    "\n",
    "pandas_elo_diff , pandas_custom_time= time_execution(pandas_custom_calc, \"Pandas Custom Calculation\")\n",
    "print(pandas_elo_diff)"
   ]
  },
  {
   "cell_type": "code",
   "execution_count": 45,
   "metadata": {},
   "outputs": [
    {
     "name": "stdout",
     "output_type": "stream",
     "text": [
      "DuckDB Custom Calculation: 0.3818 seconds\n"
     ]
    },
    {
     "data": {
      "text/html": [
       "<div>\n",
       "<style scoped>\n",
       "    .dataframe tbody tr th:only-of-type {\n",
       "        vertical-align: middle;\n",
       "    }\n",
       "\n",
       "    .dataframe tbody tr th {\n",
       "        vertical-align: top;\n",
       "    }\n",
       "\n",
       "    .dataframe thead th {\n",
       "        text-align: right;\n",
       "    }\n",
       "</style>\n",
       "<table border=\"1\" class=\"dataframe\">\n",
       "  <thead>\n",
       "    <tr style=\"text-align: right;\">\n",
       "      <th></th>\n",
       "      <th>WhiteElo</th>\n",
       "      <th>BlackElo</th>\n",
       "      <th>EloDifference</th>\n",
       "    </tr>\n",
       "  </thead>\n",
       "  <tbody>\n",
       "    <tr>\n",
       "      <th>0</th>\n",
       "      <td>1901</td>\n",
       "      <td>1896</td>\n",
       "      <td>5</td>\n",
       "    </tr>\n",
       "    <tr>\n",
       "      <th>1</th>\n",
       "      <td>1641</td>\n",
       "      <td>1627</td>\n",
       "      <td>14</td>\n",
       "    </tr>\n",
       "    <tr>\n",
       "      <th>2</th>\n",
       "      <td>1647</td>\n",
       "      <td>1688</td>\n",
       "      <td>41</td>\n",
       "    </tr>\n",
       "    <tr>\n",
       "      <th>3</th>\n",
       "      <td>1706</td>\n",
       "      <td>1317</td>\n",
       "      <td>389</td>\n",
       "    </tr>\n",
       "    <tr>\n",
       "      <th>4</th>\n",
       "      <td>1945</td>\n",
       "      <td>1900</td>\n",
       "      <td>45</td>\n",
       "    </tr>\n",
       "  </tbody>\n",
       "</table>\n",
       "</div>"
      ],
      "text/plain": [
       "   WhiteElo  BlackElo  EloDifference\n",
       "0      1901      1896              5\n",
       "1      1641      1627             14\n",
       "2      1647      1688             41\n",
       "3      1706      1317            389\n",
       "4      1945      1900             45"
      ]
     },
     "metadata": {},
     "output_type": "display_data"
    }
   ],
   "source": [
    "# DuckDB Custom Calculation\n",
    "def duckdb_custom_calc():\n",
    "    con = duckdb.connect()\n",
    "    query = \"\"\"\n",
    "    SELECT WhiteElo, BlackElo, ABS(WhiteElo - BlackElo) AS EloDifference\n",
    "    FROM df\n",
    "    \"\"\"\n",
    "    return con.execute(query).fetch_df().head()\n",
    "\n",
    "duckdb_elo_diff , duckdb_custom_time = time_execution(duckdb_custom_calc, \"DuckDB Custom Calculation\")\n",
    "display(duckdb_elo_diff)"
   ]
  },
  {
   "cell_type": "code",
   "execution_count": 46,
   "metadata": {},
   "outputs": [
    {
     "data": {
      "text/html": [
       "<div>\n",
       "<style scoped>\n",
       "    .dataframe tbody tr th:only-of-type {\n",
       "        vertical-align: middle;\n",
       "    }\n",
       "\n",
       "    .dataframe tbody tr th {\n",
       "        vertical-align: top;\n",
       "    }\n",
       "\n",
       "    .dataframe thead th {\n",
       "        text-align: right;\n",
       "    }\n",
       "</style>\n",
       "<table border=\"1\" class=\"dataframe\">\n",
       "  <thead>\n",
       "    <tr style=\"text-align: right;\">\n",
       "      <th></th>\n",
       "      <th>Tool</th>\n",
       "      <th>Execution Time (seconds)</th>\n",
       "    </tr>\n",
       "  </thead>\n",
       "  <tbody>\n",
       "    <tr>\n",
       "      <th>0</th>\n",
       "      <td>Pandas</td>\n",
       "      <td>0.199117</td>\n",
       "    </tr>\n",
       "    <tr>\n",
       "      <th>1</th>\n",
       "      <td>DuckDB</td>\n",
       "      <td>0.381771</td>\n",
       "    </tr>\n",
       "  </tbody>\n",
       "</table>\n",
       "</div>"
      ],
      "text/plain": [
       "     Tool  Execution Time (seconds)\n",
       "0  Pandas                  0.199117\n",
       "1  DuckDB                  0.381771"
      ]
     },
     "metadata": {},
     "output_type": "display_data"
    }
   ],
   "source": [
    "import pandas as pd\n",
    "from IPython.display import display\n",
    "\n",
    "# Define the execution times\n",
    "results_data = {\n",
    "    \"Tool\": [\"Pandas\", \"DuckDB\"],\n",
    "    \"Execution Time (seconds)\": [pandas_custom_time, duckdb_custom_time]  # Pandas exceeds time limit\n",
    "}\n",
    "\n",
    "# Create a DataFrame for display\n",
    "comparison_table = pd.DataFrame(results_data)\n",
    "\n",
    "# Display the comparison table\n",
    "display(comparison_table)\n"
   ]
  },
  {
   "cell_type": "markdown",
   "metadata": {},
   "source": [
    "### Why Did DuckDB Take More Time for the Custom Calculation?\n",
    "\n",
    "While DuckDB is optimized for large-scale analytical tasks, the custom calculation scenario demonstrates where **Pandas may have an advantage** for small, Python-native operations.\n",
    "\n",
    "#### **Key Reasons for DuckDB's Slower Performance**\n",
    "1. **SQL Query Overhead**:\n",
    "   - DuckDB requires parsing and optimizing the SQL query before execution.\n",
    "   - For smaller datasets or simple operations, this overhead can make DuckDB slightly slower compared to Pandas.\n",
    "\n",
    "2. **Data Handling Differences**:\n",
    "   - In DuckDB, the query operates on the registered dataset (`df`), and the result is fetched as a new DataFrame.\n",
    "   - In Pandas, the operation is performed directly on the in-memory DataFrame, avoiding extra processing steps.\n",
    "\n",
    "3. **Python-Native Advantage in Pandas**:\n",
    "   - The calculation (`abs(df['WhiteElo'] - df['BlackElo'])`) is a simple, vectorized operation in Pandas.\n",
    "   - Pandas leverages NumPy's highly optimized array operations, which are extremely fast for small to medium-sized data.\n"
   ]
  },
  {
   "cell_type": "markdown",
   "metadata": {},
   "source": [
    "# Applications and Conclusion"
   ]
  },
  {
   "cell_type": "markdown",
   "metadata": {},
   "source": [
    "### Applications\n",
    "- DuckDB excels when:\n",
    "  - The dataset is **large** (millions of rows).\n",
    "  - The operation involves **complex queries** (e.g., filtering, joins, aggregations).\n",
    "  - Data is stored in columnar formats like Parquet or Arrow.\n",
    "\n",
    "- Pandas is best for:\n",
    "  - Quick prototyping.\n",
    "  - Small-to-medium datasets.\n",
    "\n",
    "### Conclusion\n",
    "- **Pandas** is more efficient for small-scale, Python-native operations like this custom calculation.\n",
    "- **DuckDB** shines in handling large datasets and complex analytical queries where its optimizations become more impactful."
   ]
  },
  {
   "cell_type": "code",
   "execution_count": null,
   "metadata": {},
   "outputs": [],
   "source": []
  }
 ],
 "metadata": {
  "colab": {
   "provenance": []
  },
  "kernelspec": {
   "display_name": "Python 3 (ipykernel)",
   "language": "python",
   "name": "python3"
  },
  "language_info": {
   "codemirror_mode": {
    "name": "ipython",
    "version": 3
   },
   "file_extension": ".py",
   "mimetype": "text/x-python",
   "name": "python",
   "nbconvert_exporter": "python",
   "pygments_lexer": "ipython3",
   "version": "3.12.2"
  }
 },
 "nbformat": 4,
 "nbformat_minor": 4
}
